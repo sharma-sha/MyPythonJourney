{
 "cells": [
  {
   "cell_type": "code",
   "execution_count": 2,
   "id": "c3764cb9",
   "metadata": {},
   "outputs": [],
   "source": [
    "#similar Python program"
   ]
  },
  {
   "cell_type": "code",
   "execution_count": 3,
   "id": "26cf2865",
   "metadata": {},
   "outputs": [
    {
     "name": "stdout",
     "output_type": "stream",
     "text": [
      "The subtraction of two numbers\n",
      "The number1: 50\n",
      "The number2: 30\n",
      "The Answer: 20\n"
     ]
    }
   ],
   "source": [
    "# A simple program to subtract two numbers\n",
    "print(\"The subtraction of two numbers\")\n",
    "\n",
    "# Define the first number\n",
    "num1 = 50\n",
    "print(\"The number1:\", num1)\n",
    "\n",
    "# Define the second number\n",
    "num2 = 30\n",
    "print(\"The number2:\", num2)\n",
    "\n",
    "# Perform the subtraction\n",
    "difference = num1 - num2\n",
    "print(\"The Answer:\", difference)\n"
   ]
  },
  {
   "cell_type": "code",
   "execution_count": 4,
   "id": "77bfbb53",
   "metadata": {},
   "outputs": [
    {
     "name": "stdout",
     "output_type": "stream",
     "text": [
      "The subtraction of two numbers\n",
      "The number1: 50\n",
      "The number2: 30\n",
      "The Answer: 20\n"
     ]
    }
   ],
   "source": [
    "# A simple program to subtract two numbers\n",
    "print(\"The subtraction of two numbers\")\n",
    "\n",
    "# Define the first number\n",
    "num1 = 50\n",
    "print(\"The number1:\", num1)\n",
    "\n",
    "# Define the second number\n",
    "num2 = 30\n",
    "print(\"The number2:\", num2)\n",
    "\n",
    "# Perform the subtraction\n",
    "difference = num1 - num2\n",
    "print(\"The Answer:\", difference)\n"
   ]
  },
  {
   "cell_type": "code",
   "execution_count": 5,
   "id": "b5659c1d",
   "metadata": {},
   "outputs": [
    {
     "name": "stdout",
     "output_type": "stream",
     "text": [
      "The division of two numbers\n",
      "The number1: 40\n",
      "The number2: 8\n",
      "The Answer: 5.0\n"
     ]
    }
   ],
   "source": [
    "# A simple program to divide two numbers\n",
    "print(\"The division of two numbers\")\n",
    "\n",
    "# Define the first number\n",
    "num1 = 40\n",
    "print(\"The number1:\", num1)\n",
    "\n",
    "# Define the second number\n",
    "num2 = 8\n",
    "print(\"The number2:\", num2)\n",
    "\n",
    "# Perform the division\n",
    "quotient = num1 / num2\n",
    "print(\"The Answer:\", quotient)\n"
   ]
  },
  {
   "cell_type": "code",
   "execution_count": 6,
   "id": "eafda5fb",
   "metadata": {},
   "outputs": [],
   "source": [
    "#Let’s take it to the next level!"
   ]
  },
  {
   "cell_type": "code",
   "execution_count": 7,
   "id": "87302bb3",
   "metadata": {},
   "outputs": [
    {
     "name": "stdout",
     "output_type": "stream",
     "text": [
      "Welcome to the Multi-Operation Calculator!\n",
      "Enter the first number: 1996\n",
      "The number1: 1996.0\n",
      "Enter the second number: 2004\n",
      "The number2: 2004.0\n",
      "\n",
      "Performing calculations...\n",
      "\n",
      "Results:\n",
      "Addition: 4000.0\n",
      "Subtraction: -8.0\n",
      "Multiplication: 3999984.0\n",
      "Division: 0.9960079840319361\n"
     ]
    }
   ],
   "source": [
    "# A program to perform multiple operations on two numbers\n",
    "print(\"Welcome to the Multi-Operation Calculator!\")\n",
    "\n",
    "# Taking user input for numbers\n",
    "num1 = float(input(\"Enter the first number: \"))\n",
    "print(\"The number1:\", num1)\n",
    "\n",
    "num2 = float(input(\"Enter the second number: \"))\n",
    "print(\"The number2:\", num2)\n",
    "\n",
    "# Performing operations\n",
    "print(\"\\nPerforming calculations...\")\n",
    "addition = num1 + num2\n",
    "subtraction = num1 - num2\n",
    "multiplication = num1 * num2\n",
    "division = num1 / num2 if num2 != 0 else \"Undefined (division by zero)\"\n",
    "\n",
    "# Displaying the results\n",
    "print(\"\\nResults:\")\n",
    "print(\"Addition:\", addition)\n",
    "print(\"Subtraction:\", subtraction)\n",
    "print(\"Multiplication:\", multiplication)\n",
    "print(\"Division:\", division)\n"
   ]
  },
  {
   "cell_type": "code",
   "execution_count": 8,
   "id": "12776b45",
   "metadata": {},
   "outputs": [
    {
     "name": "stdout",
     "output_type": "stream",
     "text": [
      "Welcome to the Menu-Driven Calculator!\n",
      "Enter the first number: 1996\n",
      "The number1: 1996.0\n",
      "Enter the second number: 2004\n",
      "The number2: 2004.0\n",
      "\n",
      "Select an operation to perform:\n",
      "1. Addition\n",
      "2. Subtraction\n",
      "3. Multiplication\n",
      "4. Division\n",
      "Enter your choice (1/2/3/4): 1\n",
      "The Answer (Addition): 4000.0\n",
      "\n",
      "Thank you for using the calculator!\n"
     ]
    }
   ],
   "source": [
    "# A menu-driven calculator program\n",
    "print(\"Welcome to the Menu-Driven Calculator!\")\n",
    "\n",
    "# Taking user input for numbers\n",
    "num1 = float(input(\"Enter the first number: \"))\n",
    "print(\"The number1:\", num1)\n",
    "\n",
    "num2 = float(input(\"Enter the second number: \"))\n",
    "print(\"The number2:\", num2)\n",
    "\n",
    "# Displaying the menu\n",
    "print(\"\\nSelect an operation to perform:\")\n",
    "print(\"1. Addition\")\n",
    "print(\"2. Subtraction\")\n",
    "print(\"3. Multiplication\")\n",
    "print(\"4. Division\")\n",
    "\n",
    "# Taking user choice\n",
    "choice = input(\"Enter your choice (1/2/3/4): \")\n",
    "\n",
    "# Performing the chosen operation\n",
    "if choice == '1':\n",
    "    result = num1 + num2\n",
    "    print(\"The Answer (Addition):\", result)\n",
    "elif choice == '2':\n",
    "    result = num1 - num2\n",
    "    print(\"The Answer (Subtraction):\", result)\n",
    "elif choice == '3':\n",
    "    result = num1 * num2\n",
    "    print(\"The Answer (Multiplication):\", result)\n",
    "elif choice == '4':\n",
    "    if num2 != 0:\n",
    "        result = num1 / num2\n",
    "        print(\"The Answer (Division):\", result)\n",
    "    else:\n",
    "        print(\"Division by zero is not allowed.\")\n",
    "else:\n",
    "    print(\"Invalid choice! Please select a valid option.\")\n",
    "\n",
    "print(\"\\nThank you for using the calculator!\")\n"
   ]
  }
 ],
 "metadata": {
  "kernelspec": {
   "display_name": "Python 3 (ipykernel)",
   "language": "python",
   "name": "python3"
  },
  "language_info": {
   "codemirror_mode": {
    "name": "ipython",
    "version": 3
   },
   "file_extension": ".py",
   "mimetype": "text/x-python",
   "name": "python",
   "nbconvert_exporter": "python",
   "pygments_lexer": "ipython3",
   "version": "3.11.5"
  }
 },
 "nbformat": 4,
 "nbformat_minor": 5
}
